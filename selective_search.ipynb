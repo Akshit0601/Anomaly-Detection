{
 "cells": [
  {
   "cell_type": "code",
   "execution_count": 39,
   "metadata": {},
   "outputs": [],
   "source": [
    "import os\n",
    "import pandas\n",
    "import cv2\n",
    "import numpy \n",
    "\n",
    "\n"
   ]
  },
  {
   "cell_type": "code",
   "execution_count": 38,
   "metadata": {},
   "outputs": [],
   "source": [
    "from tensorflow.keras.preprocessing.image import ImageDataGenerator\n",
    "from tensorflow.keras.applications import MobileNetV2\n",
    "from tensorflow.keras.layers import AveragePooling2D\n",
    "from tensorflow.keras.layers import Dropout\n",
    "from tensorflow.keras.layers import Flatten\n",
    "from tensorflow.keras.layers import Dense\n",
    "from tensorflow.keras.layers import Input\n",
    "from tensorflow.keras.models import Model\n",
    "from tensorflow.keras.optimizers import Adam\n",
    "from tensorflow.keras.applications.mobilenet_v2 import preprocess_input\n",
    "from tensorflow.keras.preprocessing.image import img_to_array\n",
    "from tensorflow.keras.preprocessing.image import load_img\n",
    "from tensorflow.keras.utils import to_categorical\n",
    "from sklearn.preprocessing import LabelBinarizer\n",
    "from sklearn.model_selection import train_test_split\n",
    "from sklearn.metrics import classification_report\n",
    "import matplotlib.pyplot as plt\n",
    "import numpy \n",
    "import pickle\n",
    "import os\n"
   ]
  },
  {
   "cell_type": "code",
   "execution_count": 32,
   "metadata": {},
   "outputs": [
    {
     "name": "stdout",
     "output_type": "stream",
     "text": [
      "WARNING:tensorflow:`input_shape` is undefined or non-square, or `rows` is not in [96, 128, 160, 192, 224]. Weights for input shape (224, 224) will be loaded as the default.\n"
     ]
    },
    {
     "name": "stderr",
     "output_type": "stream",
     "text": [
      "WARNING:tensorflow:`input_shape` is undefined or non-square, or `rows` is not in [96, 128, 160, 192, 224]. Weights for input shape (224, 224) will be loaded as the default.\n",
      "WARNING:absl:At this time, the v2.11+ optimizer `tf.keras.optimizers.Adam` runs slowly on M1/M2 Macs, please use the legacy Keras optimizer instead, located at `tf.keras.optimizers.legacy.Adam`.\n",
      "WARNING:absl:There is a known slowdown when using v2.11+ Keras optimizers on M1/M2 Macs. Falling back to the legacy Keras optimizer, i.e., `tf.keras.optimizers.legacy.Adam`.\n"
     ]
    },
    {
     "name": "stdout",
     "output_type": "stream",
     "text": [
      "Epoch 1/10\n",
      "100/100 [==============================] - 159s 2s/step - loss: 0.7330 - accuracy: 0.5103 - val_loss: 0.7707 - val_accuracy: 0.4994\n",
      "Epoch 2/10\n",
      "100/100 [==============================] - 157s 2s/step - loss: 0.7015 - accuracy: 0.4923 - val_loss: 0.7604 - val_accuracy: 0.4994\n",
      "Epoch 3/10\n",
      "100/100 [==============================] - 157s 2s/step - loss: 0.6952 - accuracy: 0.5100 - val_loss: 0.7310 - val_accuracy: 0.4994\n",
      "Epoch 4/10\n",
      "100/100 [==============================] - 152s 2s/step - loss: 0.6987 - accuracy: 0.4945 - val_loss: 0.7504 - val_accuracy: 0.4994\n",
      "Epoch 5/10\n",
      "100/100 [==============================] - 153s 2s/step - loss: 0.6977 - accuracy: 0.4935 - val_loss: 0.7322 - val_accuracy: 0.4994\n",
      "Epoch 6/10\n",
      "100/100 [==============================] - 156s 2s/step - loss: 0.6953 - accuracy: 0.5005 - val_loss: 0.7128 - val_accuracy: 0.4994\n",
      "Epoch 7/10\n",
      "100/100 [==============================] - 156s 2s/step - loss: 0.6935 - accuracy: 0.4967 - val_loss: 0.7041 - val_accuracy: 0.4994\n",
      "Epoch 8/10\n",
      "100/100 [==============================] - 154s 2s/step - loss: 0.6935 - accuracy: 0.5084 - val_loss: 0.6958 - val_accuracy: 0.4856\n",
      "Epoch 9/10\n",
      "100/100 [==============================] - 153s 2s/step - loss: 0.6941 - accuracy: 0.4964 - val_loss: 0.6941 - val_accuracy: 0.5006\n",
      "Epoch 10/10\n",
      "100/100 [==============================] - 153s 2s/step - loss: 0.6944 - accuracy: 0.4926 - val_loss: 0.6939 - val_accuracy: 0.5006\n"
     ]
    },
    {
     "name": "stderr",
     "output_type": "stream",
     "text": [
      "/Users/akshitshishodia/miniconda3/envs/tf/lib/python3.9/site-packages/keras/src/engine/training.py:3000: UserWarning: You are saving your model as an HDF5 file via `model.save()`. This file format is considered legacy. We recommend using instead the native Keras format, e.g. `model.save('my_model.keras')`.\n",
      "  saving_api.save_model(\n"
     ]
    }
   ],
   "source": [
    "class selective_tracker():\n",
    "\n",
    "    data = pandas.read_csv('/Users/akshitshishodia/intern/tracker/labels_my-project-name_2023-06-27-09-45-54.csv')\n",
    "    pos = 0\n",
    "    neg = 0\n",
    "    def __init__(self) -> None:\n",
    "        pass\n",
    "    def calculate_iou(box_a,box_b):\n",
    "        xA = max(box_a[0],box_b[0])\n",
    "        yA = max(box_a[1],box_b[1])\n",
    "        xB = min(box_a[2],box_b[2])\n",
    "        yB = min(box_a[3],box_b[3])\n",
    "        inter_area = max(0, xB - xA + 1) * max(0, yB - yA + 1)\n",
    "        pred = (box_a[2]-box_a[0]+1)*(box_a[3]-box_a[1]+1)\n",
    "        ground_truth = (box_b[2]-box_b[0]+1)*(box_b[3]-box_b[1]+1)\n",
    "        iou = inter_area / float(pred + ground_truth - inter_area)\n",
    "        return iou\n",
    "    \n",
    "    @classmethod\n",
    "    def annotation_extracter(cls,path):\n",
    "        totalpos = 0\n",
    "        totalneg = 0\n",
    "        image_path = [file for file in os.listdir(path=path)]\n",
    "        gt_box = list()\n",
    "        for image_loc in image_path:\n",
    "            row = cls.data[cls.data['image_name']== image_loc]\n",
    "            w = int(row.image_width)\n",
    "            h = int(row.image_height)\n",
    "            x_min = int(row.bbox_x)\n",
    "            y_min = int(row.bbox_y)\n",
    "            x_max= int(row.bbox_x)+int(row.bbox_width)\n",
    "            y_max = int(row.bbox_y)+int(row.bbox_height)\n",
    "\n",
    "            x_min = max(0,x_min)\n",
    "            y_min = max(0,y_min)\n",
    "            x_max = min(w,x_max)\n",
    "            y_max = min(h,y_max)\n",
    "\n",
    "            gt_box.append((x_min,y_min,x_max,y_max))\n",
    "            img = cv2.imread(os.path.join(path,image_loc))\n",
    "            ss = cv2.ximgproc.segmentation.createSelectiveSearchSegmentation()\n",
    "            ss.setBaseImage(img)\n",
    "            ss.switchToSelectiveSearchQuality()\n",
    "            rects = ss.process()\n",
    "            proposedRegions = list()\n",
    "            for x,y,w,h in rects:\n",
    "                pos_roi = 0\n",
    "                neg_roi = 0\n",
    "                proposedRegions.append((x,y,x+w,y+h))\n",
    "                for proposedRect in proposedRegions[:2000]:\n",
    "                    (x1,y1,x2,y2) = proposedRect\n",
    "                    for gt in gt_box:\n",
    "                        IOU = cls.calculate_iou(gt,proposedRect)\n",
    "                        roi = None\n",
    "                        OutputPath = None\n",
    "                        (gx1,gy1,gx2,gy2) = gt\n",
    "\n",
    "                        if IOU > 0.7 and cls.pos <= 2000:\n",
    "                            roi = img[y1:y2,x1:x2]\n",
    "                            loc = str(totalpos)+'.png'\n",
    "                            OutputPath = os.path.join('/Users/akshitshishodia/intern/tracker/refined/good',loc)\n",
    "                            totalpos+=1\n",
    "                            cls.pos+=1                            \n",
    "                        fullOverlap = x1 >= gx1\n",
    "                        fullOverlap = fullOverlap and y1 >= gy1\n",
    "                        fullOverlap = fullOverlap and x2 <= gx2\n",
    "                        fullOverlap = fullOverlap and y2 <= gy2\n",
    "\n",
    "                        if not fullOverlap and IOU < 0.1 and cls.neg<=2000:\n",
    "                            roi = img[y1:y2,x1:x2]\n",
    "                            loc = str(totalneg)+'.png'\n",
    "                            OutputPath = os.path.join('/Users/akshitshishodia/intern/tracker/refined/bad',loc)\n",
    "                            totalneg+=1\n",
    "                            cls.neg+=1\n",
    "                        \n",
    "                        if roi is not None and OutputPath is not None:\n",
    "                            roi = cv2.resize(roi,(224,224),cv2.INTER_CUBIC)\n",
    "                            cv2.imwrite(OutputPath,roi)\n",
    "\n",
    "    def build_model(self):\n",
    "        EPOCHS = 10\n",
    "        BS = 32\n",
    "        LR = 1e-4\n",
    "        data = list()\n",
    "        labels = list()\n",
    "        #gripper\n",
    "        gripper_path = '/Users/akshitshishodia/intern/tracker/refined/gripper'\n",
    "        for file in os.listdir(path=gripper_path):\n",
    "            frame = cv2.imread(os.path.join(gripper_path,file))\n",
    "            frame = img_to_array(frame)\n",
    "            frame = preprocess_input(frame)\n",
    "            data.append(frame)\n",
    "            labels.append('gripper')\n",
    "        not_gripper = '/Users/akshitshishodia/intern/tracker/refined/not gripper'\n",
    "        for file in os.listdir(path=not_gripper):\n",
    "            frame = cv2.imread(os.path.join(gripper_path,file))\n",
    "            frame = img_to_array(frame)\n",
    "            frame = preprocess_input(frame)\n",
    "            data.append(frame)\n",
    "            labels.append('not gripper')\n",
    "        \n",
    "        data = numpy.array(data,dtype=numpy.float32)\n",
    "        labels = numpy.array(labels)\n",
    "\n",
    "        lb = LabelBinarizer()\n",
    "        labels = lb.fit_transform(labels)\n",
    "        labels = to_categorical(labels)\n",
    "\n",
    "        (trainX, testX, trainY, testY) = train_test_split(data, labels,test_size=0.20, stratify=labels, random_state=42)\n",
    "\n",
    "        augment = ImageDataGenerator(\n",
    "            rotation_range=20,\n",
    "            zoom_range=0.15,\n",
    "            width_shift_range=0.2,\n",
    "            height_shift_range=0.2,\n",
    "            shear_range=0.15,\n",
    "            horizontal_flip=True,\n",
    "            fill_mode=\"nearest\"\n",
    "        )\n",
    "\n",
    "        base_model = MobileNetV2(weights=\"imagenet\", include_top=False,input_tensor=Input(shape=(224, 224, 3)))\n",
    "        headModel = base_model.output\n",
    "        headModel = AveragePooling2D(pool_size=(7, 7))(headModel)\n",
    "        headModel = Flatten(name=\"flatten\")(headModel)\n",
    "        headModel = Dense(128, activation=\"relu\")(headModel)\n",
    "        headModel = Dropout(0.5)(headModel)\n",
    "        headModel = Dense(2, activation=\"softmax\")(headModel)\n",
    "\n",
    "        model = Model(inputs=base_model.input, outputs=headModel)\n",
    "\n",
    "        # for layer in base_model.layers():\n",
    "        #     layer.trainable = False\n",
    "        \n",
    "        opt =  Adam(LR)\n",
    "        model.compile(loss = 'binary_crossentropy',optimizer = opt,metrics = ['accuracy'])\n",
    "        History = model.fit(\n",
    "        augment.flow(trainX, trainY, batch_size=BS),\n",
    "        steps_per_epoch=len(trainX) // BS,\n",
    "        validation_data=(testX, testY),\n",
    "        validation_steps=len(testX) // BS,\n",
    "        epochs=EPOCHS)\n",
    "\n",
    "\n",
    "        model.save('model_3.h5',save_format = 'h5')\n",
    "        f = open('label_encoder.pickle', \"wb\")\n",
    "        f.write(pickle.dumps(lb))\n",
    "        f.close()\n",
    "        return History,model\n",
    "\n",
    "test_obj = selective_tracker()\n",
    "history,model = test_obj.build_model()"
   ]
  },
  {
   "cell_type": "code",
   "execution_count": 33,
   "metadata": {},
   "outputs": [
    {
     "ename": "KeyError",
     "evalue": "\"None of [Index(['binary_accuracy', 'val_binary_accuracy'], dtype='object')] are in the [columns]\"",
     "output_type": "error",
     "traceback": [
      "\u001b[0;31m---------------------------------------------------------------------------\u001b[0m",
      "\u001b[0;31mKeyError\u001b[0m                                  Traceback (most recent call last)",
      "Cell \u001b[0;32mIn[33], line 3\u001b[0m\n\u001b[1;32m      1\u001b[0m history_frame \u001b[39m=\u001b[39m pandas\u001b[39m.\u001b[39mDataFrame(history\u001b[39m.\u001b[39mhistory)\n\u001b[1;32m      2\u001b[0m history_frame\u001b[39m.\u001b[39mloc[:, [\u001b[39m'\u001b[39m\u001b[39mloss\u001b[39m\u001b[39m'\u001b[39m, \u001b[39m'\u001b[39m\u001b[39mval_loss\u001b[39m\u001b[39m'\u001b[39m]]\u001b[39m.\u001b[39mplot()\n\u001b[0;32m----> 3\u001b[0m history_frame\u001b[39m.\u001b[39;49mloc[:, [\u001b[39m'\u001b[39;49m\u001b[39mbinary_accuracy\u001b[39;49m\u001b[39m'\u001b[39;49m, \u001b[39m'\u001b[39;49m\u001b[39mval_binary_accuracy\u001b[39;49m\u001b[39m'\u001b[39;49m]]\u001b[39m.\u001b[39mplot();\n",
      "File \u001b[0;32m~/.local/lib/python3.9/site-packages/pandas/core/indexing.py:1067\u001b[0m, in \u001b[0;36m_LocationIndexer.__getitem__\u001b[0;34m(self, key)\u001b[0m\n\u001b[1;32m   1065\u001b[0m     \u001b[39mif\u001b[39;00m \u001b[39mself\u001b[39m\u001b[39m.\u001b[39m_is_scalar_access(key):\n\u001b[1;32m   1066\u001b[0m         \u001b[39mreturn\u001b[39;00m \u001b[39mself\u001b[39m\u001b[39m.\u001b[39mobj\u001b[39m.\u001b[39m_get_value(\u001b[39m*\u001b[39mkey, takeable\u001b[39m=\u001b[39m\u001b[39mself\u001b[39m\u001b[39m.\u001b[39m_takeable)\n\u001b[0;32m-> 1067\u001b[0m     \u001b[39mreturn\u001b[39;00m \u001b[39mself\u001b[39;49m\u001b[39m.\u001b[39;49m_getitem_tuple(key)\n\u001b[1;32m   1068\u001b[0m \u001b[39melse\u001b[39;00m:\n\u001b[1;32m   1069\u001b[0m     \u001b[39m# we by definition only have the 0th axis\u001b[39;00m\n\u001b[1;32m   1070\u001b[0m     axis \u001b[39m=\u001b[39m \u001b[39mself\u001b[39m\u001b[39m.\u001b[39maxis \u001b[39mor\u001b[39;00m \u001b[39m0\u001b[39m\n",
      "File \u001b[0;32m~/.local/lib/python3.9/site-packages/pandas/core/indexing.py:1256\u001b[0m, in \u001b[0;36m_LocIndexer._getitem_tuple\u001b[0;34m(self, tup)\u001b[0m\n\u001b[1;32m   1253\u001b[0m \u001b[39mif\u001b[39;00m \u001b[39mself\u001b[39m\u001b[39m.\u001b[39m_multi_take_opportunity(tup):\n\u001b[1;32m   1254\u001b[0m     \u001b[39mreturn\u001b[39;00m \u001b[39mself\u001b[39m\u001b[39m.\u001b[39m_multi_take(tup)\n\u001b[0;32m-> 1256\u001b[0m \u001b[39mreturn\u001b[39;00m \u001b[39mself\u001b[39;49m\u001b[39m.\u001b[39;49m_getitem_tuple_same_dim(tup)\n",
      "File \u001b[0;32m~/.local/lib/python3.9/site-packages/pandas/core/indexing.py:924\u001b[0m, in \u001b[0;36m_LocationIndexer._getitem_tuple_same_dim\u001b[0;34m(self, tup)\u001b[0m\n\u001b[1;32m    921\u001b[0m \u001b[39mif\u001b[39;00m com\u001b[39m.\u001b[39mis_null_slice(key):\n\u001b[1;32m    922\u001b[0m     \u001b[39mcontinue\u001b[39;00m\n\u001b[0;32m--> 924\u001b[0m retval \u001b[39m=\u001b[39m \u001b[39mgetattr\u001b[39;49m(retval, \u001b[39mself\u001b[39;49m\u001b[39m.\u001b[39;49mname)\u001b[39m.\u001b[39;49m_getitem_axis(key, axis\u001b[39m=\u001b[39;49mi)\n\u001b[1;32m    925\u001b[0m \u001b[39m# We should never have retval.ndim < self.ndim, as that should\u001b[39;00m\n\u001b[1;32m    926\u001b[0m \u001b[39m#  be handled by the _getitem_lowerdim call above.\u001b[39;00m\n\u001b[1;32m    927\u001b[0m \u001b[39massert\u001b[39;00m retval\u001b[39m.\u001b[39mndim \u001b[39m==\u001b[39m \u001b[39mself\u001b[39m\u001b[39m.\u001b[39mndim\n",
      "File \u001b[0;32m~/.local/lib/python3.9/site-packages/pandas/core/indexing.py:1301\u001b[0m, in \u001b[0;36m_LocIndexer._getitem_axis\u001b[0;34m(self, key, axis)\u001b[0m\n\u001b[1;32m   1298\u001b[0m     \u001b[39mif\u001b[39;00m \u001b[39mhasattr\u001b[39m(key, \u001b[39m\"\u001b[39m\u001b[39mndim\u001b[39m\u001b[39m\"\u001b[39m) \u001b[39mand\u001b[39;00m key\u001b[39m.\u001b[39mndim \u001b[39m>\u001b[39m \u001b[39m1\u001b[39m:\n\u001b[1;32m   1299\u001b[0m         \u001b[39mraise\u001b[39;00m \u001b[39mValueError\u001b[39;00m(\u001b[39m\"\u001b[39m\u001b[39mCannot index with multidimensional key\u001b[39m\u001b[39m\"\u001b[39m)\n\u001b[0;32m-> 1301\u001b[0m     \u001b[39mreturn\u001b[39;00m \u001b[39mself\u001b[39;49m\u001b[39m.\u001b[39;49m_getitem_iterable(key, axis\u001b[39m=\u001b[39;49maxis)\n\u001b[1;32m   1303\u001b[0m \u001b[39m# nested tuple slicing\u001b[39;00m\n\u001b[1;32m   1304\u001b[0m \u001b[39mif\u001b[39;00m is_nested_tuple(key, labels):\n",
      "File \u001b[0;32m~/.local/lib/python3.9/site-packages/pandas/core/indexing.py:1239\u001b[0m, in \u001b[0;36m_LocIndexer._getitem_iterable\u001b[0;34m(self, key, axis)\u001b[0m\n\u001b[1;32m   1236\u001b[0m \u001b[39mself\u001b[39m\u001b[39m.\u001b[39m_validate_key(key, axis)\n\u001b[1;32m   1238\u001b[0m \u001b[39m# A collection of keys\u001b[39;00m\n\u001b[0;32m-> 1239\u001b[0m keyarr, indexer \u001b[39m=\u001b[39m \u001b[39mself\u001b[39;49m\u001b[39m.\u001b[39;49m_get_listlike_indexer(key, axis)\n\u001b[1;32m   1240\u001b[0m \u001b[39mreturn\u001b[39;00m \u001b[39mself\u001b[39m\u001b[39m.\u001b[39mobj\u001b[39m.\u001b[39m_reindex_with_indexers(\n\u001b[1;32m   1241\u001b[0m     {axis: [keyarr, indexer]}, copy\u001b[39m=\u001b[39m\u001b[39mTrue\u001b[39;00m, allow_dups\u001b[39m=\u001b[39m\u001b[39mTrue\u001b[39;00m\n\u001b[1;32m   1242\u001b[0m )\n",
      "File \u001b[0;32m~/.local/lib/python3.9/site-packages/pandas/core/indexing.py:1432\u001b[0m, in \u001b[0;36m_LocIndexer._get_listlike_indexer\u001b[0;34m(self, key, axis)\u001b[0m\n\u001b[1;32m   1429\u001b[0m ax \u001b[39m=\u001b[39m \u001b[39mself\u001b[39m\u001b[39m.\u001b[39mobj\u001b[39m.\u001b[39m_get_axis(axis)\n\u001b[1;32m   1430\u001b[0m axis_name \u001b[39m=\u001b[39m \u001b[39mself\u001b[39m\u001b[39m.\u001b[39mobj\u001b[39m.\u001b[39m_get_axis_name(axis)\n\u001b[0;32m-> 1432\u001b[0m keyarr, indexer \u001b[39m=\u001b[39m ax\u001b[39m.\u001b[39;49m_get_indexer_strict(key, axis_name)\n\u001b[1;32m   1434\u001b[0m \u001b[39mreturn\u001b[39;00m keyarr, indexer\n",
      "File \u001b[0;32m~/.local/lib/python3.9/site-packages/pandas/core/indexes/base.py:6113\u001b[0m, in \u001b[0;36mIndex._get_indexer_strict\u001b[0;34m(self, key, axis_name)\u001b[0m\n\u001b[1;32m   6110\u001b[0m \u001b[39melse\u001b[39;00m:\n\u001b[1;32m   6111\u001b[0m     keyarr, indexer, new_indexer \u001b[39m=\u001b[39m \u001b[39mself\u001b[39m\u001b[39m.\u001b[39m_reindex_non_unique(keyarr)\n\u001b[0;32m-> 6113\u001b[0m \u001b[39mself\u001b[39;49m\u001b[39m.\u001b[39;49m_raise_if_missing(keyarr, indexer, axis_name)\n\u001b[1;32m   6115\u001b[0m keyarr \u001b[39m=\u001b[39m \u001b[39mself\u001b[39m\u001b[39m.\u001b[39mtake(indexer)\n\u001b[1;32m   6116\u001b[0m \u001b[39mif\u001b[39;00m \u001b[39misinstance\u001b[39m(key, Index):\n\u001b[1;32m   6117\u001b[0m     \u001b[39m# GH 42790 - Preserve name from an Index\u001b[39;00m\n",
      "File \u001b[0;32m~/.local/lib/python3.9/site-packages/pandas/core/indexes/base.py:6173\u001b[0m, in \u001b[0;36mIndex._raise_if_missing\u001b[0;34m(self, key, indexer, axis_name)\u001b[0m\n\u001b[1;32m   6171\u001b[0m     \u001b[39mif\u001b[39;00m use_interval_msg:\n\u001b[1;32m   6172\u001b[0m         key \u001b[39m=\u001b[39m \u001b[39mlist\u001b[39m(key)\n\u001b[0;32m-> 6173\u001b[0m     \u001b[39mraise\u001b[39;00m \u001b[39mKeyError\u001b[39;00m(\u001b[39mf\u001b[39m\u001b[39m\"\u001b[39m\u001b[39mNone of [\u001b[39m\u001b[39m{\u001b[39;00mkey\u001b[39m}\u001b[39;00m\u001b[39m] are in the [\u001b[39m\u001b[39m{\u001b[39;00maxis_name\u001b[39m}\u001b[39;00m\u001b[39m]\u001b[39m\u001b[39m\"\u001b[39m)\n\u001b[1;32m   6175\u001b[0m not_found \u001b[39m=\u001b[39m \u001b[39mlist\u001b[39m(ensure_index(key)[missing_mask\u001b[39m.\u001b[39mnonzero()[\u001b[39m0\u001b[39m]]\u001b[39m.\u001b[39munique())\n\u001b[1;32m   6176\u001b[0m \u001b[39mraise\u001b[39;00m \u001b[39mKeyError\u001b[39;00m(\u001b[39mf\u001b[39m\u001b[39m\"\u001b[39m\u001b[39m{\u001b[39;00mnot_found\u001b[39m}\u001b[39;00m\u001b[39m not in index\u001b[39m\u001b[39m\"\u001b[39m)\n",
      "\u001b[0;31mKeyError\u001b[0m: \"None of [Index(['binary_accuracy', 'val_binary_accuracy'], dtype='object')] are in the [columns]\""
     ]
    },
    {
     "data": {
      "image/png": "[encoded data removed]",
      "text/plain": [
       "<Figure size 640x480 with 1 Axes>"
      ]
     },
     "metadata": {},
     "output_type": "display_data"
    }
   ],
   "source": [
    "history_frame = pandas.DataFrame(history.history)\n",
    "history_frame.loc[:, ['loss', 'val_loss']].plot()\n",
    "history_frame.loc[:, ['binary_accuracy', 'val_binary_accuracy']].plot();"
   ]
  },
  {
   "cell_type": "code",
   "execution_count": 26,
   "metadata": {},
   "outputs": [],
   "source": [
    "data = pandas.read_csv('/Users/akshitshishodia/intern/tracker/labels_my-project-name_2023-06-27-09-45-54.csv')\n",
    "data.head()\n",
    "# for file in os.listdir(path='/Users/akshitshishodia/intern/tracker/dataset'):\n",
    "#     display(file)\n",
    "img = cv2.imread('/Users/akshitshishodia/intern/tracker/dataset/frame540.jpg')\n",
    "row = data[data['image_name']=='frame540.jpg']\n",
    "x_min = int(row.bbox_x)\n",
    "y_max = int(row.bbox_y)\n",
    "x_max= int(row.bbox_x)+int(row.bbox_width)\n",
    "y_min = int(row.bbox_y)+int(row.bbox_height)\n",
    "img = cv2.rectangle(img,(x_min,y_min),(x_max,y_max),(0,255,0),5)\n",
    "cv2.imshow('frame',img)\n",
    "cv2.waitKey(0)\n",
    "cv2.destroyAllWindows()\n",
    "# s = int(i.bbox_height)\n",
    "# data.head()\n"
   ]
  },
  {
   "cell_type": "code",
   "execution_count": 26,
   "metadata": {},
   "outputs": [
    {
     "name": "stdout",
     "output_type": "stream",
     "text": [
      "1/1 [==============================] - 1s 1s/step\n"
     ]
    },
    {
     "data": {
      "text/plain": [
       "array([[0.38426402, 0.615736  ]], dtype=float32)"
      ]
     },
     "execution_count": 26,
     "metadata": {},
     "output_type": "execute_result"
    }
   ],
   "source": [
    "img = cv2.imread('/Users/akshitshishodia/intern/tracker/refined/gripper/1.png')\n",
    "img = img_to_array(img)\n",
    "img = preprocess_input(img)\n",
    "img = cv2.resize(img,(224,224))\n",
    "img = numpy.expand_dims(img,axis=0)\n",
    "\n",
    "model.predict(img)"
   ]
  },
  {
   "cell_type": "code",
   "execution_count": 42,
   "metadata": {},
   "outputs": [
    {
     "name": "stdout",
     "output_type": "stream",
     "text": [
      "63/63 [==============================] - 14s 210ms/step\n"
     ]
    }
   ],
   "source": [
    "import tensorflow\n",
    "import imutils\n",
    "\n",
    "model = tensorflow.keras.models.load_model('/Users/akshitshishodia/intern/tracker/model_3.h5')\n",
    "lb = pickle.loads(open('/Users/akshitshishodia/intern/tracker/label_encoder.pickle','rb').read())\n",
    "\n",
    "test_image = cv2.imread('/Users/akshitshishodia/intern/tracker/dataset/frame110.jpg')\n",
    "test_image = imutils.resize(test_image,width=500)\n",
    "ss = cv2.ximgproc.segmentation.createSelectiveSearchSegmentation()\n",
    "ss.setBaseImage(test_image)\n",
    "ss.switchToSelectiveSearchQuality()\n",
    "\n",
    "rects = ss.process()\n",
    "\n",
    "proposals = list()\n",
    "box= list()\n",
    "\n",
    "for x,y,w,h in rects[:2000]:\n",
    "    roi = test_image[y:y+h,x:x+w]\n",
    "    roi = cv2.cvtColor(roi, cv2.COLOR_BGR2RGB)\n",
    "    roi = cv2.resize(roi,(224,224),interpolation=cv2.INTER_CUBIC)\n",
    "    roi = img_to_array(roi)\n",
    "    roi = preprocess_input(roi)\n",
    "    proposals.append(roi)\n",
    "    box.append((x,y,x+w,y+h))\n",
    "\n",
    "proposals = numpy.array(proposals,dtype = numpy.int32)\n",
    "box = numpy.array(box,dtype = numpy.int32)\n",
    "\n",
    "proba = model.predict(proposals)\n",
    "labels = lb.classes_[numpy.argmax(proba,axis =1 )]\n",
    "index = numpy.where(labels == 'gripper')[0]\n",
    "\n",
    "\n",
    "box = box[index]\n",
    "proba = proba[index][:,1]\n",
    "\n",
    "index = numpy.where(proba >= 0.480)\n",
    "box = box[index]\n",
    "proba = proba[index]\n",
    "\n",
    "clone = test_image.copy()\n",
    "\n",
    "for (box, prob) in zip(box, proba):\n",
    "\t(startX, startY, endX, endY) = box\n",
    "\tcv2.rectangle(clone, (startX, startY), (endX, endY),\n",
    "\t\t(0, 255, 0), 2)\n",
    "\ty = startY - 10 if startY - 10 > 10 else startY + 10\n",
    "\ttext= \"gripper: {:.2f}%\".format(prob * 100)\n",
    "\tcv2.putText(clone, text, (startX, y),\n",
    "\t\tcv2.FONT_HERSHEY_SIMPLEX, 0.45, (0, 255, 0), 2)\n",
    "# show the output after *before* running NMS\n",
    "cv2.imshow(\"Before NMS\", clone)\n",
    "cv2.waitKey(0)\n",
    "cv2.destroyAllWindows()\n",
    "\n",
    "\n",
    "\n",
    "\n",
    "\n",
    "\n",
    "\n",
    "\n",
    "\n",
    "\n",
    "\n"
   ]
  },
  {
   "cell_type": "code",
   "execution_count": 28,
   "metadata": {},
   "outputs": [
    {
     "data": {
      "text/html": [
       "<style>#sk-container-id-1 {color: black;background-color: white;}#sk-container-id-1 pre{padding: 0;}#sk-container-id-1 div.sk-toggleable {background-color: white;}#sk-container-id-1 label.sk-toggleable__label {cursor: pointer;display: block;width: 100%;margin-bottom: 0;padding: 0.3em;box-sizing: border-box;text-align: center;}#sk-container-id-1 label.sk-toggleable__label-arrow:before {content: \"▸\";float: left;margin-right: 0.25em;color: #696969;}#sk-container-id-1 label.sk-toggleable__label-arrow:hover:before {color: black;}#sk-container-id-1 div.sk-estimator:hover label.sk-toggleable__label-arrow:before {color: black;}#sk-container-id-1 div.sk-toggleable__content {max-height: 0;max-width: 0;overflow: hidden;text-align: left;background-color: #f0f8ff;}#sk-container-id-1 div.sk-toggleable__content pre {margin: 0.2em;color: black;border-radius: 0.25em;background-color: #f0f8ff;}#sk-container-id-1 input.sk-toggleable__control:checked~div.sk-toggleable__content {max-height: 200px;max-width: 100%;overflow: auto;}#sk-container-id-1 input.sk-toggleable__control:checked~label.sk-toggleable__label-arrow:before {content: \"▾\";}#sk-container-id-1 div.sk-estimator input.sk-toggleable__control:checked~label.sk-toggleable__label {background-color: #d4ebff;}#sk-container-id-1 div.sk-label input.sk-toggleable__control:checked~label.sk-toggleable__label {background-color: #d4ebff;}#sk-container-id-1 input.sk-hidden--visually {border: 0;clip: rect(1px 1px 1px 1px);clip: rect(1px, 1px, 1px, 1px);height: 1px;margin: -1px;overflow: hidden;padding: 0;position: absolute;width: 1px;}#sk-container-id-1 div.sk-estimator {font-family: monospace;background-color: #f0f8ff;border: 1px dotted black;border-radius: 0.25em;box-sizing: border-box;margin-bottom: 0.5em;}#sk-container-id-1 div.sk-estimator:hover {background-color: #d4ebff;}#sk-container-id-1 div.sk-parallel-item::after {content: \"\";width: 100%;border-bottom: 1px solid gray;flex-grow: 1;}#sk-container-id-1 div.sk-label:hover label.sk-toggleable__label {background-color: #d4ebff;}#sk-container-id-1 div.sk-serial::before {content: \"\";position: absolute;border-left: 1px solid gray;box-sizing: border-box;top: 0;bottom: 0;left: 50%;z-index: 0;}#sk-container-id-1 div.sk-serial {display: flex;flex-direction: column;align-items: center;background-color: white;padding-right: 0.2em;padding-left: 0.2em;position: relative;}#sk-container-id-1 div.sk-item {position: relative;z-index: 1;}#sk-container-id-1 div.sk-parallel {display: flex;align-items: stretch;justify-content: center;background-color: white;position: relative;}#sk-container-id-1 div.sk-item::before, #sk-container-id-1 div.sk-parallel-item::before {content: \"\";position: absolute;border-left: 1px solid gray;box-sizing: border-box;top: 0;bottom: 0;left: 50%;z-index: -1;}#sk-container-id-1 div.sk-parallel-item {display: flex;flex-direction: column;z-index: 1;position: relative;background-color: white;}#sk-container-id-1 div.sk-parallel-item:first-child::after {align-self: flex-end;width: 50%;}#sk-container-id-1 div.sk-parallel-item:last-child::after {align-self: flex-start;width: 50%;}#sk-container-id-1 div.sk-parallel-item:only-child::after {width: 0;}#sk-container-id-1 div.sk-dashed-wrapped {border: 1px dashed gray;margin: 0 0.4em 0.5em 0.4em;box-sizing: border-box;padding-bottom: 0.4em;background-color: white;}#sk-container-id-1 div.sk-label label {font-family: monospace;font-weight: bold;display: inline-block;line-height: 1.2em;}#sk-container-id-1 div.sk-label-container {text-align: center;}#sk-container-id-1 div.sk-container {/* jupyter's `normalize.less` sets `[hidden] { display: none; }` but bootstrap.min.css set `[hidden] { display: none !important; }` so we also need the `!important` here to be able to override the default hidden behavior on the sphinx rendered scikit-learn.org. See: https://github.com/scikit-learn/scikit-learn/issues/21755 */display: inline-block !important;position: relative;}#sk-container-id-1 div.sk-text-repr-fallback {display: none;}</style><div id=\"sk-container-id-1\" class=\"sk-top-container\"><div class=\"sk-text-repr-fallback\"><pre>LabelBinarizer()</pre><b>In a Jupyter environment, please rerun this cell to show the HTML representation or trust the notebook. <br />On GitHub, the HTML representation is unable to render, please try loading this page with nbviewer.org.</b></div><div class=\"sk-container\" hidden><div class=\"sk-item\"><div class=\"sk-estimator sk-toggleable\"><input class=\"sk-toggleable__control sk-hidden--visually\" id=\"sk-estimator-id-1\" type=\"checkbox\" checked><label for=\"sk-estimator-id-1\" class=\"sk-toggleable__label sk-toggleable__label-arrow\">LabelBinarizer</label><div class=\"sk-toggleable__content\"><pre>LabelBinarizer()</pre></div></div></div></div></div>"
      ],
      "text/plain": [
       "LabelBinarizer()"
      ]
     },
     "execution_count": 28,
     "metadata": {},
     "output_type": "execute_result"
    }
   ],
   "source": []
  }
 ],
 "metadata": {
  "kernelspec": {
   "display_name": "tf",
   "language": "python",
   "name": "python3"
  },
  "language_info": {
   "codemirror_mode": {
    "name": "ipython",
    "version": 3
   },
   "file_extension": ".py",
   "mimetype": "text/x-python",
   "name": "python",
   "nbconvert_exporter": "python",
   "pygments_lexer": "ipython3",
   "version": "3.9.16"
  },
  "orig_nbformat": 4
 },
 "nbformat": 4,
 "nbformat_minor": 2
}

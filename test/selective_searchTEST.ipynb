{
 "cells": [
  {
   "cell_type": "code",
   "execution_count": 11,
   "metadata": {},
   "outputs": [
    {
     "ename": "",
     "evalue": "",
     "output_type": "error",
     "traceback": [
      "\u001b[1;31mThe Kernel crashed while executing code in the the current cell or a previous cell. Please review the code in the cell(s) to identify a possible cause of the failure. Click <a href='https://aka.ms/vscodeJupyterKernelCrash'>here</a> for more info. View Jupyter <a href='command:jupyter.viewOutput'>log</a> for further details."
     ]
    }
   ],
   "source": [
    "import cv2\n",
    "import os\n",
    "import pandas\n",
    "\n"
   ]
  },
  {
   "cell_type": "code",
   "execution_count": 10,
   "metadata": {},
   "outputs": [],
   "source": [
    "im = cv2.imread('/Users/akshitshishodia/intern/tracker/dataset/frame25.jpg')\n",
    "newHeight = 200\n",
    "newWidth = int(im.shape[1]*200/im.shape[0])\n",
    "im = cv2.resize(im, (newWidth, newHeight))    \n",
    "ss = cv2.ximgproc.segmentation.createSelectiveSearchSegmentation()\n",
    "ss.setBaseImage(im)\n",
    "ss.switchToSelectiveSearchQuality()\n",
    "rects = ss.process()\n",
    "numShowRects = 100\n",
    "\n",
    "data = pandas.read_csv('/Users/akshitshishodia/intern/tracker/labels_my-project-name_2023-06-27-09-45-54.csv')\n",
    "\n",
    "def calculate_iou(box_a,box_b):\n",
    "    xA = max(box_a[0],box_b[0])\n",
    "    yA = max(box_a[1],box_b[1])\n",
    "    xB = min(box_a[2],box_b[2])\n",
    "    yB = min(box_a[3],box_b[3])\n",
    "    inter_area = max(0, xB - xA + 1) * max(0, yB - yA + 1)\n",
    "    pred = (box_a[2]-box_a[0]+1)*(box_a[3]-box_a[1]+1)\n",
    "    ground_truth = (box_b[2]-box_b[0]+1)*(box_b[3]-box_b[1]+1)\n",
    "    iou = inter_area / float(pred + ground_truth - inter_area)\n",
    "    return iou\n",
    "\n",
    "while True:\n",
    "\n",
    "    imOut = im.copy()\n",
    "\n",
    "\n",
    "    for i, rect in enumerate(rects[:50]):\n",
    "\n",
    "        if (i < numShowRects):\n",
    "            x, y, w, h = rect\n",
    "            cv2.rectangle(imOut, (x, y), (x+w, y+h), (0, 255, 0), 1, cv2.LINE_AA)\n",
    "            IOU = calculate_iou()\n",
    "        else:\n",
    "            break\n",
    "\n",
    "\n",
    "    cv2.imshow(\"Output\", imOut)\n",
    "    if cv2.waitKey(25) & 0xFF == ord('q'):\n",
    "        break\n",
    "    \n",
    "\n",
    "\n",
    "\n",
    "\n",
    "\n",
    "cv2.destroyAllWindows()"
   ]
  },
  {
   "cell_type": "code",
   "execution_count": null,
   "metadata": {},
   "outputs": [],
   "source": []
  }
 ],
 "metadata": {
  "kernelspec": {
   "display_name": "tf",
   "language": "python",
   "name": "python3"
  },
  "language_info": {
   "codemirror_mode": {
    "name": "ipython",
    "version": 3
   },
   "file_extension": ".py",
   "mimetype": "text/x-python",
   "name": "python",
   "nbconvert_exporter": "python",
   "pygments_lexer": "ipython3",
   "version": "3.9.16"
  },
  "orig_nbformat": 4
 },
 "nbformat": 4,
 "nbformat_minor": 2
}

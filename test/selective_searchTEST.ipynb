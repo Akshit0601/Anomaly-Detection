{
 "cells": [
  {
   "cell_type": "code",
   "execution_count": 1,
   "metadata": {},
   "outputs": [],
   "source": [
    "import cv2\n",
    "import os\n",
    "import pandas\n",
    "\n"
   ]
  },
  {
   "cell_type": "code",
   "execution_count": 2,
   "metadata": {},
   "outputs": [
    {
     "ename": "TypeError",
     "evalue": "calculate_iou() missing 2 required positional arguments: 'box_a' and 'box_b'",
     "output_type": "error",
     "traceback": [
      "\u001b[0;31m---------------------------------------------------------------------------\u001b[0m",
      "\u001b[0;31mTypeError\u001b[0m                                 Traceback (most recent call last)",
      "Cell \u001b[0;32mIn[2], line 34\u001b[0m\n\u001b[1;32m     32\u001b[0m     x, y, w, h \u001b[39m=\u001b[39m rect\n\u001b[1;32m     33\u001b[0m     cv2\u001b[39m.\u001b[39mrectangle(imOut, (x, y), (x\u001b[39m+\u001b[39mw, y\u001b[39m+\u001b[39mh), (\u001b[39m0\u001b[39m, \u001b[39m255\u001b[39m, \u001b[39m0\u001b[39m), \u001b[39m1\u001b[39m, cv2\u001b[39m.\u001b[39mLINE_AA)\n\u001b[0;32m---> 34\u001b[0m     IOU \u001b[39m=\u001b[39m calculate_iou()\n\u001b[1;32m     35\u001b[0m \u001b[39melse\u001b[39;00m:\n\u001b[1;32m     36\u001b[0m     \u001b[39mbreak\u001b[39;00m\n",
      "\u001b[0;31mTypeError\u001b[0m: calculate_iou() missing 2 required positional arguments: 'box_a' and 'box_b'"
     ]
    }
   ],
   "source": [
    "im = cv2.imread('/Users/akshitshishodia/intern/tracker/DATASET_/frame8.png')\n",
    "newHeight = 200\n",
    "newWidth = int(im.shape[1]*200/im.shape[0])\n",
    "im = cv2.resize(im, (newWidth, newHeight))    \n",
    "ss = cv2.ximgproc.segmentation.createSelectiveSearchSegmentation()\n",
    "ss.setBaseImage(im)\n",
    "ss.switchToSelectiveSearchQuality()\n",
    "rects = ss.process()\n",
    "numShowRects = 100\n",
    "\n",
    "data = pandas.read_csv('/Users/akshitshishodia/intern/tracker/labels_my-project-name_2023-06-27-09-45-54.csv')\n",
    "\n",
    "def calculate_iou(box_a,box_b):\n",
    "    xA = max(box_a[0],box_b[0])\n",
    "    yA = max(box_a[1],box_b[1])\n",
    "    xB = min(box_a[2],box_b[2])\n",
    "    yB = min(box_a[3],box_b[3])\n",
    "    inter_area = max(0, xB - xA + 1) * max(0, yB - yA + 1)\n",
    "    pred = (box_a[2]-box_a[0]+1)*(box_a[3]-box_a[1]+1)\n",
    "    ground_truth = (box_b[2]-box_b[0]+1)*(box_b[3]-box_b[1]+1)\n",
    "    iou = inter_area / float(pred + ground_truth - inter_area)\n",
    "    return iou\n",
    "\n",
    "while True:\n",
    "\n",
    "    imOut = im.copy()\n",
    "\n",
    "\n",
    "    for i, rect in enumerate(rects[:50]):\n",
    "\n",
    "        if (i < numShowRects):\n",
    "            x, y, w, h = rect\n",
    "            cv2.rectangle(imOut, (x, y), (x+w, y+h), (0, 255, 0), 1, cv2.LINE_AA)\n",
    "            IOU = calculate_iou()\n",
    "        else:\n",
    "            break\n",
    "\n",
    "\n",
    "    cv2.imshow(\"Output\", imOut)\n",
    "    if cv2.waitKey(25) & 0xFF == ord('q'):\n",
    "        break\n",
    "    \n",
    "\n",
    "\n",
    "\n",
    "\n",
    "\n",
    "cv2.destroyAllWindows()"
   ]
  },
  {
   "cell_type": "code",
   "execution_count": null,
   "metadata": {},
   "outputs": [],
   "source": []
  }
 ],
 "metadata": {
  "kernelspec": {
   "display_name": "tf",
   "language": "python",
   "name": "python3"
  },
  "language_info": {
   "codemirror_mode": {
    "name": "ipython",
    "version": 3
   },
   "file_extension": ".py",
   "mimetype": "text/x-python",
   "name": "python",
   "nbconvert_exporter": "python",
   "pygments_lexer": "ipython3",
   "version": "3.9.16"
  },
  "orig_nbformat": 4
 },
 "nbformat": 4,
 "nbformat_minor": 2
}
